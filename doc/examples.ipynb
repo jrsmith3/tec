{
 "cells": [
  {
   "cell_type": "code",
   "execution_count": 16,
   "id": "06e9947d-80bc-4842-83cb-ecbca59d03e4",
   "metadata": {},
   "outputs": [],
   "source": [
    "import numpy as np\n",
    "import tec\n",
    "\n",
    "from matplotlib import pyplot as plt"
   ]
  },
  {
   "cell_type": "code",
   "execution_count": 46,
   "id": "452098e5-a9e4-4872-8e74-b256102f5bb5",
   "metadata": {},
   "outputs": [],
   "source": [
    "fig_2_13a_constants = {\n",
    "    \"emitter_temperature\": 1800,\n",
    "    \"collector_temperature\": 900,\n",
    "    \"collector_barrier\": 1.6,\n",
    "    \"collector_position\": 1,\n",
    "}\n",
    "\n",
    "# emitter_barriers = [2.4, 2.6, 2.8]\n",
    "emitter_barriers = [2.4,]\n",
    "\n",
    "collector_voltages = np.linspace(0, 1.6)\n",
    "\n",
    "fig_2_13a_data = [dict(emitter_barrier=emitter_barrier, collector_voltage=collector_voltage, **fig_2_13a_constants)\n",
    "                  for emitter_barrier in emitter_barriers for collector_voltage in collector_voltages]\n",
    "\n",
    "output_current_densities = list(map(lambda x: tec.models.Ideal.from_args(**x).output_current_density(), fig_2_13a_data))\n",
    "\n",
    "# device = tec.models.Ideal.from_args(\n",
    "#             emitter_temperature = 1800,\n",
    "#             emitter_barrier = 2,\n",
    "#             collector_temperature = 300,\n",
    "#             collector_barrier = 0.8,\n",
    "#             collector_voltage = 5,\n",
    "#             collector_position = 10,\n",
    "#     )"
   ]
  },
  {
   "cell_type": "code",
   "execution_count": 47,
   "id": "cea8abf1-2eba-41f5-aa6d-5a97331384b2",
   "metadata": {},
   "outputs": [
    {
     "data": {
      "image/png": "[encoded data removed]",
      "text/plain": [
       "<Figure size 640x480 with 1 Axes>"
      ]
     },
     "metadata": {},
     "output_type": "display_data"
    }
   ],
   "source": [
    "y = np.array(list(map(lambda x: x.value, output_current_densities)))\n",
    "plt.plot(collector_voltages, y)\n",
    "plt.show()"
   ]
  },
  {
   "cell_type": "markdown",
   "id": "c7023956-c616-41f3-aeb8-3e8301e1ccaa",
   "metadata": {},
   "source": [
    "Here are the plots from H&G vol. 1 that I'm trying to match.\n",
    "\n",
    "<img src=\"assets/fig_2.13a.png\" alt=\"Hatsopolous and Gyftopoulous vol 1, page 54, Fig. 2.13a\">"
   ]
  },
  {
   "cell_type": "markdown",
   "id": "35f9ac5f-bbfa-4fc2-8ac8-93e5e7c74bcb",
   "metadata": {
    "tags": []
   },
   "source": [
    "---\n",
    "DELETE THIS CELL\n",
    "\n",
    "![alt text](fig_2.13a.png)"
   ]
  },
  {
   "cell_type": "markdown",
   "id": "18b8f21d-9d47-4ed7-8c73-68991d71ae4b",
   "metadata": {},
   "source": [
    "<img src=\"assets/fig_2.13b.png\" alt=\"Hatsopolous and Gyftopoulous vol 1, page 54, Fig. 2.13b\">\n",
    "<img src=\"assets/fig_2.13c.png\" alt=\"Hatsopolous and Gyftopoulous vol 1, page 55, Fig. 2.13c\">\n",
    "<img src=\"assets/fig_2.13d.png\" alt=\"Hatsopolous and Gyftopoulous vol 1, page 55, Fig. 2.13d\">"
   ]
  },
  {
   "cell_type": "code",
   "execution_count": null,
   "id": "f0387a83-3fac-4d6e-98de-e0eedce61121",
   "metadata": {},
   "outputs": [],
   "source": []
  }
 ],
 "metadata": {
  "kernelspec": {
   "display_name": "Python 3 (ipykernel)",
   "language": "python",
   "name": "python3"
  },
  "language_info": {
   "codemirror_mode": {
    "name": "ipython",
    "version": 3
   },
   "file_extension": ".py",
   "mimetype": "text/x-python",
   "name": "python",
   "nbconvert_exporter": "python",
   "pygments_lexer": "ipython3",
   "version": "3.10.9"
  }
 },
 "nbformat": 4,
 "nbformat_minor": 5
}
