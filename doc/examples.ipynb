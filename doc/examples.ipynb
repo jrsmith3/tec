{
 "cells": [
  {
   "cell_type": "code",
   "execution_count": 1,
   "id": "06e9947d-80bc-4842-83cb-ecbca59d03e4",
   "metadata": {},
   "outputs": [],
   "source": [
    "import tec"
   ]
  },
  {
   "cell_type": "code",
   "execution_count": 2,
   "id": "452098e5-a9e4-4872-8e74-b256102f5bb5",
   "metadata": {},
   "outputs": [
    {
     "data": {
      "text/latex": [
       "$1.1638165 \\times 10^{-6} \\; \\mathrm{\\frac{A}{cm^{2}}}$"
      ],
      "text/plain": [
       "<Quantity 1.16381647e-06 A / cm2>"
      ]
     },
     "execution_count": 2,
     "metadata": {},
     "output_type": "execute_result"
    }
   ],
   "source": [
    "device = tec.models.Ideal.from_args(\n",
    "            emitter_temperature = 2000,\n",
    "            emitter_barrier = 2,\n",
    "            collector_temperature = 300,\n",
    "            collector_barrier = 0.8,\n",
    "            collector_voltage = 5,\n",
    "            collector_position = 10,\n",
    "    )\n",
    "\n",
    "device.output_current_density()"
   ]
  },
  {
   "cell_type": "markdown",
   "id": "c7023956-c616-41f3-aeb8-3e8301e1ccaa",
   "metadata": {},
   "source": [
    "Here are the plots from H&G vol. 1 that I'm trying to match.\n",
    "\n",
    "<img src=\"assets/p54.png\" alt=\"Hatsopolous and Gyftopoulous vol 1, page 54\">\n",
    "<img src=\"assets/p55.png\" alt=\"Hatsopolous and Gyftopoulous vol 1, page 55\">"
   ]
  },
  {
   "cell_type": "code",
   "execution_count": null,
   "id": "2960ccc8-a342-4f9e-a133-579d5c2f8f84",
   "metadata": {},
   "outputs": [],
   "source": []
  }
 ],
 "metadata": {
  "kernelspec": {
   "display_name": "Python 3 (ipykernel)",
   "language": "python",
   "name": "python3"
  },
  "language_info": {
   "codemirror_mode": {
    "name": "ipython",
    "version": 3
   },
   "file_extension": ".py",
   "mimetype": "text/x-python",
   "name": "python",
   "nbconvert_exporter": "python",
   "pygments_lexer": "ipython3",
   "version": "3.10.5"
  }
 },
 "nbformat": 4,
 "nbformat_minor": 5
}
